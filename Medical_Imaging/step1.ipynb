{
 "cells": [
  {
   "cell_type": "markdown",
   "metadata": {},
   "source": [
    "# Getting Started with Medical Imaging\n",
    "\n",
    "In this tutorial, we will be looking at how to work with Medical Imaging samples in FiftyOne. We will specifically looking at DICOM files and CT scan files! While there are a few known variations on how they can be store, the pattern is the same.\n",
    "\n",
    "Note, we will not be covering how to load medical images that are normally stored as `.jpg` or `.png` . Please refer to the quickstart if you are working with normal images!\n",
    "\n",
    "## Installation\n",
    "Some new libraries are required to load the data"
   ]
  },
  {
   "cell_type": "code",
   "execution_count": 10,
   "metadata": {},
   "outputs": [
    {
     "name": "stdout",
     "output_type": "stream",
     "text": [
      "Requirement already satisfied: pydicom==2.4.4 in /Users/dangural/anaconda3/envs/OSS310/lib/python3.10/site-packages (2.4.4)\n",
      "Requirement already satisfied: rt_utils in /Users/dangural/anaconda3/envs/OSS310/lib/python3.10/site-packages (1.2.7)\n",
      "Requirement already satisfied: kagglehub in /Users/dangural/anaconda3/envs/OSS310/lib/python3.10/site-packages (0.3.10)\n",
      "Collecting nibabel\n",
      "  Downloading nibabel-5.3.2-py3-none-any.whl.metadata (9.1 kB)\n",
      "Requirement already satisfied: numpy in /Users/dangural/anaconda3/envs/OSS310/lib/python3.10/site-packages (from rt_utils) (2.1.0)\n",
      "Requirement already satisfied: opencv-python in /Users/dangural/anaconda3/envs/OSS310/lib/python3.10/site-packages (from rt_utils) (4.11.0.86)\n",
      "Requirement already satisfied: dataclasses in /Users/dangural/anaconda3/envs/OSS310/lib/python3.10/site-packages (from rt_utils) (0.6)\n",
      "Requirement already satisfied: packaging in /Users/dangural/anaconda3/envs/OSS310/lib/python3.10/site-packages (from kagglehub) (24.2)\n",
      "Requirement already satisfied: pyyaml in /Users/dangural/anaconda3/envs/OSS310/lib/python3.10/site-packages (from kagglehub) (6.0.2)\n",
      "Requirement already satisfied: requests in /Users/dangural/anaconda3/envs/OSS310/lib/python3.10/site-packages (from kagglehub) (2.32.3)\n",
      "Requirement already satisfied: tqdm in /Users/dangural/anaconda3/envs/OSS310/lib/python3.10/site-packages (from kagglehub) (4.67.1)\n",
      "Collecting importlib-resources>=5.12 (from nibabel)\n",
      "  Downloading importlib_resources-6.5.2-py3-none-any.whl.metadata (3.9 kB)\n",
      "Requirement already satisfied: typing-extensions>=4.6 in /Users/dangural/anaconda3/envs/OSS310/lib/python3.10/site-packages (from nibabel) (4.12.2)\n",
      "Requirement already satisfied: charset-normalizer<4,>=2 in /Users/dangural/anaconda3/envs/OSS310/lib/python3.10/site-packages (from requests->kagglehub) (3.4.1)\n",
      "Requirement already satisfied: idna<4,>=2.5 in /Users/dangural/anaconda3/envs/OSS310/lib/python3.10/site-packages (from requests->kagglehub) (3.10)\n",
      "Requirement already satisfied: urllib3<3,>=1.21.1 in /Users/dangural/anaconda3/envs/OSS310/lib/python3.10/site-packages (from requests->kagglehub) (2.3.0)\n",
      "Requirement already satisfied: certifi>=2017.4.17 in /Users/dangural/anaconda3/envs/OSS310/lib/python3.10/site-packages (from requests->kagglehub) (2025.1.31)\n",
      "Downloading nibabel-5.3.2-py3-none-any.whl (3.3 MB)\n",
      "\u001b[2K   \u001b[90m━━━━━━━━━━━━━━━━━━━━━━━━━━━━━━━━━━━━━━━━\u001b[0m \u001b[32m3.3/3.3 MB\u001b[0m \u001b[31m22.3 MB/s\u001b[0m eta \u001b[36m0:00:00\u001b[0ma \u001b[36m0:00:01\u001b[0m\n",
      "\u001b[?25hDownloading importlib_resources-6.5.2-py3-none-any.whl (37 kB)\n",
      "Installing collected packages: importlib-resources, nibabel\n",
      "Successfully installed importlib-resources-6.5.2 nibabel-5.3.2\n"
     ]
    }
   ],
   "source": [
    "!pip install pydicom==2.4.4 rt_utils kagglehub nibabel"
   ]
  },
  {
   "cell_type": "markdown",
   "metadata": {},
   "source": [
    "## Downloading DICOM Dataset\n",
    "\n",
    "First let's grab some example DICOM files. Below is a [great demo dataset](https://www.kaggle.com/datasets/aryashah2k/hippocampal-sparing-dataset) from Kaggle. It is not of the highest quality, but it works well for beginners. Inside it, we have 25 brain scans of paitents with annotations of their left and right hippocampus stored in `.dcm` files. Lets begin by downloading the dataset:"
   ]
  },
  {
   "cell_type": "code",
   "execution_count": 1,
   "metadata": {},
   "outputs": [
    {
     "name": "stdout",
     "output_type": "stream",
     "text": [
      "Path to dataset files: /Users/dangural/.cache/kagglehub/datasets/aryashah2k/hippocampal-sparing-dataset/versions/1\n"
     ]
    }
   ],
   "source": [
    "import kagglehub\n",
    "\n",
    "# Download latest version\n",
    "path = kagglehub.dataset_download(\"aryashah2k/hippocampal-sparing-dataset\")\n",
    "\n",
    "print(\"Path to dataset files:\", path)"
   ]
  },
  {
   "cell_type": "markdown",
   "metadata": {},
   "source": [
    "## Loading DICOM Files\n",
    "\n",
    "FiftyOne features a [DICOM dataset loader](https://docs.voxel51.com/user_guide/dataset_creation/datasets.html#dicomdataset) that we will be taking advantage of here. This will load our `.dcm` files in as 2D slices that we can then play as a video once its all loaded. \n",
    "\n",
    "An important note here is the use of `dicom_path`. In our dataset we have MR dicoms and RS dicoms, with the former being the scan and the latter being the annotations. We only want to load the scan as our base sample and load the annotations on later. FiftyOne is very flexible with how you load and present data, so feel free to dive more into the [dataset loader](https://docs.voxel51.com/user_guide/dataset_creation/datasets.html#dicomdataset) to get the best experience for you!\n",
    "\n",
    "Let's begin loading a single patient's data below. Check out the comments to find out what is happening at each step!"
   ]
  },
  {
   "cell_type": "code",
   "execution_count": null,
   "metadata": {},
   "outputs": [
    {
     "name": "stdout",
     "output_type": "stream",
     "text": [
      "No `images_dir` provided. Images will be unpacked to '/Users/dangural/.cache/kagglehub/datasets/aryashah2k/hippocampal-sparing-dataset/versions/1/HippocampalMRISlices/01'\n",
      "   0% ||----------------|   1/276 [188.0ms elapsed, 51.7s remaining, 5.3 samples/s] "
     ]
    },
    {
     "name": "stderr",
     "output_type": "stream",
     "text": [
      "/Users/dangural/anaconda3/envs/OSS310/lib/python3.10/site-packages/fiftyone/utils/dicom.py:100: UserWarning: Ignoring field 'DeidentificationMethodCodeSequence' with unsupported type <class 'pydicom.sequence.Sequence'>\n",
      "  warnings.warn(msg)\n"
     ]
    },
    {
     "name": "stdout",
     "output_type": "stream",
     "text": [
      " 100% |█████████████████| 276/276 [683.8ms elapsed, 0s remaining, 404.1 samples/s]      \n",
      "Structures in RTStruct: ['Hippocampus_L', 'Hippocampus_R']\n"
     ]
    }
   ],
   "source": [
    "import fiftyone as fo\n",
    "import glob\n",
    "from rt_utils import RTStructBuilder\n",
    "import numpy as np\n",
    "import cv2\n",
    "import os\n",
    "\n",
    "\n",
    "# Path to the dataset\n",
    "dataset_dir = path + \"/HippocampalMRISlices/01/\"\n",
    "\n",
    "# Create the dataset\n",
    "dataset = fo.Dataset.from_dir(\n",
    "    dataset_dir=dataset_dir,\n",
    "    dataset_type=fo.types.DICOMDataset,\n",
    "    dicom_path=\"MR*.dcm\",\n",
    "    name=\"Patient1Scans\",\n",
    ")\n",
    "\n",
    "# Load RTStruct for labels\n",
    "rtstruct_path = glob.glob(dataset_dir + \"RS*.dcm\", recursive=True)\n",
    "rtstruct = RTStructBuilder.create_from(dicom_series_path=dataset_dir, rt_struct_path=rtstruct_path[0])\n",
    "\n",
    "# Get structure names\n",
    "structures = rtstruct.get_roi_names()\n",
    "print(\"Structures in RTStruct:\", structures)\n",
    "\n",
    "# Get mask for each structure\n",
    "L_mask3d = rtstruct.get_roi_mask_by_name(structures[0])\n",
    "R_mask3d = rtstruct.get_roi_mask_by_name(structures[1])\n",
    "\n",
    "# Sort dataset from bottom to top of the scan\n",
    "view = dataset.sort_by(\"SliceLocation\")\n",
    "\n",
    "# Add masks to the dataset\n",
    "i = 0\n",
    "for sample in view:\n",
    "\n",
    "    # Load left Hippocampus mask\n",
    "    sample[\"Hippocampus_L\"] = fo.Segmentation(mask=L_mask3d[:,:,i].astype(np.uint8))\n",
    "\n",
    "    # Load right Hippocampus mask\n",
    "    sample[\"Hippocampus_R\"] = fo.Segmentation(mask=R_mask3d[:,:,i].astype(np.uint8))\n",
    "    i = i + 1\n",
    "    sample.save()"
   ]
  },
  {
   "cell_type": "markdown",
   "metadata": {},
   "source": [
    "Afterwards we can open up our app to see patient 1's scan and segmentation! Right away you might notice that we are only looking at individual slices. If we want to watch the playback of these, we need to use dynamic grouping! [LINK] \n",
    "\n",
    "To dynamicly group our dataset, click the dynamic group button above the grid that looks like two merging arrows. We want to group by `Patient ID` and order by `SliceLocation`. This should present now just one sample in the grid. Lastly, click the gear icon and check \"Render frames as video\". Below is a video showing how to do the above as well"
   ]
  },
  {
   "cell_type": "code",
   "execution_count": 4,
   "metadata": {},
   "outputs": [
    {
     "data": {
      "text/html": [
       "\n",
       "<style>\n",
       "@import url(\"https://fonts.googleapis.com/css2?family=Palanquin&display=swap\");\n",
       "\n",
       "body, html {\n",
       "  margin: 0;\n",
       "  padding: 0;\n",
       "  width: 100%;\n",
       "}\n",
       "\n",
       "#focontainer-dd5021bd-95e5-422a-a027-f89927f54823 {\n",
       "  position: relative;\n",
       "  height: 800px;\n",
       "  display: block !important;\n",
       "}\n",
       "#foactivate-dd5021bd-95e5-422a-a027-f89927f54823 {\n",
       "  font-weight: bold;\n",
       "  cursor: pointer;\n",
       "  font-size: 24px;\n",
       "  border-radius: 3px;\n",
       "  text-align: center;\n",
       "  padding: 0.5em;\n",
       "  color: rgb(255, 255, 255);\n",
       "  font-family: \"Palanquin\", sans-serif;\n",
       "  position: absolute;\n",
       "  left: 50%;\n",
       "  top: 50%;\n",
       "  width: 160px;\n",
       "  margin-left: -80px;\n",
       "  margin-top: -23px;\n",
       "  background: hsla(210,11%,15%, 0.8);\n",
       "  border: none;\n",
       "}\n",
       "#foactivate-dd5021bd-95e5-422a-a027-f89927f54823:focus {\n",
       "  outline: none;\n",
       "}\n",
       "#fooverlay-dd5021bd-95e5-422a-a027-f89927f54823 {\n",
       "  width: 100%;\n",
       "  height: 100%;\n",
       "  background: hsla(208, 7%, 46%, 0.7);\n",
       "  position: absolute;\n",
       "  top: 0;\n",
       "  left: 0;\n",
       "  display: none;\n",
       "  cursor: pointer;\n",
       "}\n",
       "</style>\n",
       "\n",
       "<div id=\"focontainer-dd5021bd-95e5-422a-a027-f89927f54823\">\n",
       "   <div id=\"fooverlay-dd5021bd-95e5-422a-a027-f89927f54823\" style=\"display: none;\">\n",
       "      <button id=\"foactivate-dd5021bd-95e5-422a-a027-f89927f54823\" >Activate</button>\n",
       "   </div>\n",
       "   <img src='data:image/jpeg;base64,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' style=\"width: 100%; max-width: 1328px;\"/>\n",
       "</div>\n",
       "\n",
       "<script type=\"text/javascript\">\n",
       "   (function() {\n",
       "     var container = document.getElementById(\"focontainer-dd5021bd-95e5-422a-a027-f89927f54823\");\n",
       "     var overlay = document.getElementById(\"fooverlay-dd5021bd-95e5-422a-a027-f89927f54823\");\n",
       "     fetch(`http://localhost:5151/fiftyone`)\n",
       "     .then(() => {\n",
       "        overlay.addEventListener(\"click\", () => {\n",
       "          fetch(`http://localhost:5151/event`, {\n",
       "            method: \"POST\",\n",
       "            body: JSON.stringify({\n",
       "              event: \"reactivate_notebook_cell\",\n",
       "              data: { subscription: \"dd5021bd-95e5-422a-a027-f89927f54823\" },\n",
       "              subscription: \"dd5021bd-95e5-422a-a027-f89927f54823\"\n",
       "            })\n",
       "          })\n",
       "        });\n",
       "        container.addEventListener(\"mouseenter\", () => overlay.style.display = \"block\");\n",
       "        container.addEventListener(\"mouseleave\", () => overlay.style.display = \"none\");\n",
       "     });\n",
       "   })();\n",
       "</script>"
      ],
      "text/plain": [
       "<IPython.core.display.HTML object>"
      ]
     },
     "metadata": {},
     "output_type": "display_data"
    }
   ],
   "source": [
    "session = fo.launch_app(dataset)"
   ]
  },
  {
   "cell_type": "markdown",
   "metadata": {},
   "source": [
    "![patient1_slices](./assets/patient1_slices.webp)"
   ]
  },
  {
   "cell_type": "markdown",
   "metadata": {},
   "source": [
    "## Automatic Metadata Ingestion\n",
    "\n",
    "One of the other awesome features of the DICOM Dataset Loader is that it will automatically grab all the meta data from our `.dcm` file for us! Scan the sidebar in the app to search, filter and sort across fields like `BodyPartExamined`, `Manufacturer`, `SliceLocation` and more!\n",
    "\n",
    "But to get a full picture, we should load in the other 24 patients! To do this we will follow the same pattern above we did for Patient 1 and the use `merge_sample` [LINK] in order to combine datasets into one final dataset for us!"
   ]
  },
  {
   "cell_type": "code",
   "execution_count": null,
   "metadata": {},
   "outputs": [
    {
     "name": "stdout",
     "output_type": "stream",
     "text": [
      "No `images_dir` provided. Images will be unpacked to '/Users/dangural/.cache/kagglehub/datasets/aryashah2k/hippocampal-sparing-dataset/versions/1/HippocampalMRISlices/03'\n",
      " 100% |█████████████████| 392/392 [908.4ms elapsed, 0s remaining, 432.0 samples/s]      \n",
      "No `images_dir` provided. Images will be unpacked to '/Users/dangural/.cache/kagglehub/datasets/aryashah2k/hippocampal-sparing-dataset/versions/1/HippocampalMRISlices/04'\n",
      " 100% |█████████████████| 332/332 [691.5ms elapsed, 0s remaining, 480.7 samples/s]      \n",
      "No `images_dir` provided. Images will be unpacked to '/Users/dangural/.cache/kagglehub/datasets/aryashah2k/hippocampal-sparing-dataset/versions/1/HippocampalMRISlices/05'\n",
      " 100% |█████████████████| 292/292 [634.3ms elapsed, 0s remaining, 460.9 samples/s]      \n",
      "No `images_dir` provided. Images will be unpacked to '/Users/dangural/.cache/kagglehub/datasets/aryashah2k/hippocampal-sparing-dataset/versions/1/HippocampalMRISlices/02'\n",
      " 100% |█████████████████| 292/292 [684.2ms elapsed, 0s remaining, 427.3 samples/s]      \n",
      "No `images_dir` provided. Images will be unpacked to '/Users/dangural/.cache/kagglehub/datasets/aryashah2k/hippocampal-sparing-dataset/versions/1/HippocampalMRISlices/20'\n",
      " 100% |█████████████████| 332/332 [822.9ms elapsed, 0s remaining, 403.9 samples/s]      \n",
      "No `images_dir` provided. Images will be unpacked to '/Users/dangural/.cache/kagglehub/datasets/aryashah2k/hippocampal-sparing-dataset/versions/1/HippocampalMRISlices/18'\n",
      " 100% |█████████████████| 292/292 [649.9ms elapsed, 0s remaining, 449.8 samples/s]      \n",
      "No `images_dir` provided. Images will be unpacked to '/Users/dangural/.cache/kagglehub/datasets/aryashah2k/hippocampal-sparing-dataset/versions/1/HippocampalMRISlices/11'\n",
      " 100% |█████████████████| 220/220 [530.5ms elapsed, 0s remaining, 414.7 samples/s]      \n",
      "No `images_dir` provided. Images will be unpacked to '/Users/dangural/.cache/kagglehub/datasets/aryashah2k/hippocampal-sparing-dataset/versions/1/HippocampalMRISlices/16'\n",
      " 100% |█████████████████| 392/392 [893.7ms elapsed, 0s remaining, 439.0 samples/s]      \n",
      "No `images_dir` provided. Images will be unpacked to '/Users/dangural/.cache/kagglehub/datasets/aryashah2k/hippocampal-sparing-dataset/versions/1/HippocampalMRISlices/17'\n",
      " 100% |█████████████████| 292/292 [646.1ms elapsed, 0s remaining, 452.5 samples/s]      \n",
      "No `images_dir` provided. Images will be unpacked to '/Users/dangural/.cache/kagglehub/datasets/aryashah2k/hippocampal-sparing-dataset/versions/1/HippocampalMRISlices/10'\n",
      " 100% |█████████████████| 292/292 [703.8ms elapsed, 0s remaining, 414.9 samples/s]      \n",
      "No `images_dir` provided. Images will be unpacked to '/Users/dangural/.cache/kagglehub/datasets/aryashah2k/hippocampal-sparing-dataset/versions/1/HippocampalMRISlices/19'\n",
      " 100% |█████████████████| 172/172 [479.3ms elapsed, 0s remaining, 359.5 samples/s]      \n",
      "No `images_dir` provided. Images will be unpacked to '/Users/dangural/.cache/kagglehub/datasets/aryashah2k/hippocampal-sparing-dataset/versions/1/HippocampalMRISlices/21'\n",
      " 100% |█████████████████| 316/316 [691.9ms elapsed, 0s remaining, 457.3 samples/s]      \n",
      "No `images_dir` provided. Images will be unpacked to '/Users/dangural/.cache/kagglehub/datasets/aryashah2k/hippocampal-sparing-dataset/versions/1/HippocampalMRISlices/07'\n",
      " 100% |█████████████████| 380/380 [828.4ms elapsed, 0s remaining, 459.1 samples/s]      \n",
      "No `images_dir` provided. Images will be unpacked to '/Users/dangural/.cache/kagglehub/datasets/aryashah2k/hippocampal-sparing-dataset/versions/1/HippocampalMRISlices/09'\n",
      " 100% |█████████████████| 332/332 [773.6ms elapsed, 0s remaining, 429.2 samples/s]      \n",
      "No `images_dir` provided. Images will be unpacked to '/Users/dangural/.cache/kagglehub/datasets/aryashah2k/hippocampal-sparing-dataset/versions/1/HippocampalMRISlices/08'\n",
      " 100% |█████████████████| 324/324 [780.1ms elapsed, 0s remaining, 415.3 samples/s]      \n",
      "No `images_dir` provided. Images will be unpacked to '/Users/dangural/.cache/kagglehub/datasets/aryashah2k/hippocampal-sparing-dataset/versions/1/HippocampalMRISlices/01'\n",
      " 100% |█████████████████| 276/276 [715.7ms elapsed, 0s remaining, 386.1 samples/s]      \n",
      "No `images_dir` provided. Images will be unpacked to '/Users/dangural/.cache/kagglehub/datasets/aryashah2k/hippocampal-sparing-dataset/versions/1/HippocampalMRISlices/06'\n",
      " 100% |█████████████████| 312/312 [708.1ms elapsed, 0s remaining, 440.6 samples/s]      \n",
      "No `images_dir` provided. Images will be unpacked to '/Users/dangural/.cache/kagglehub/datasets/aryashah2k/hippocampal-sparing-dataset/versions/1/HippocampalMRISlices/24'\n",
      " 100% |█████████████████| 360/360 [843.4ms elapsed, 0s remaining, 427.3 samples/s]      \n",
      "No `images_dir` provided. Images will be unpacked to '/Users/dangural/.cache/kagglehub/datasets/aryashah2k/hippocampal-sparing-dataset/versions/1/HippocampalMRISlices/23'\n",
      " 100% |█████████████████| 332/332 [713.6ms elapsed, 0s remaining, 465.2 samples/s]      \n",
      "No `images_dir` provided. Images will be unpacked to '/Users/dangural/.cache/kagglehub/datasets/aryashah2k/hippocampal-sparing-dataset/versions/1/HippocampalMRISlices/15'\n",
      " 100% |█████████████████| 292/292 [661.6ms elapsed, 0s remaining, 441.9 samples/s]      \n",
      "No `images_dir` provided. Images will be unpacked to '/Users/dangural/.cache/kagglehub/datasets/aryashah2k/hippocampal-sparing-dataset/versions/1/HippocampalMRISlices/12'\n",
      " 100% |█████████████████| 292/292 [656.6ms elapsed, 0s remaining, 445.2 samples/s]      \n",
      "No `images_dir` provided. Images will be unpacked to '/Users/dangural/.cache/kagglehub/datasets/aryashah2k/hippocampal-sparing-dataset/versions/1/HippocampalMRISlices/13'\n",
      " 100% |█████████████████| 292/292 [648.5ms elapsed, 0s remaining, 450.9 samples/s]      \n",
      "No `images_dir` provided. Images will be unpacked to '/Users/dangural/.cache/kagglehub/datasets/aryashah2k/hippocampal-sparing-dataset/versions/1/HippocampalMRISlices/14'\n",
      " 100% |█████████████████| 292/292 [679.8ms elapsed, 0s remaining, 430.0 samples/s]      \n",
      "No `images_dir` provided. Images will be unpacked to '/Users/dangural/.cache/kagglehub/datasets/aryashah2k/hippocampal-sparing-dataset/versions/1/HippocampalMRISlices/22'\n",
      " 100% |█████████████████| 316/316 [728.4ms elapsed, 0s remaining, 433.8 samples/s]      \n",
      "No `images_dir` provided. Images will be unpacked to '/Users/dangural/.cache/kagglehub/datasets/aryashah2k/hippocampal-sparing-dataset/versions/1/HippocampalMRISlices/25'\n",
      " 100% |█████████████████| 292/292 [666.0ms elapsed, 0s remaining, 439.0 samples/s]      \n"
     ]
    }
   ],
   "source": [
    "# Get a list of all directories in the dataset\n",
    "directories = [d for d in os.listdir(path + \"/HippocampalMRISlices/\") if os.path.isdir(os.path.join(path + \"/HippocampalMRISlices/\", d))]\n",
    "\n",
    "# Create a new dataset to merge all the datasets\n",
    "final_dataset = fo.Dataset(\"Hippocampal Contouring Dataset 2\")\n",
    "\n",
    "# Loop through all directories\n",
    "for directory in directories:\n",
    "    dataset_dir = path + \"/HippocampalMRISlices/\" + directory + \"/\"\n",
    "\n",
    "    # Create the dataset\n",
    "    dataset = fo.Dataset.from_dir(\n",
    "        dataset_dir=dataset_dir,\n",
    "        dataset_type=fo.types.DICOMDataset,\n",
    "        dicom_path=\"MR*.dcm\"\n",
    "    )\n",
    "\n",
    "    # Load RTStruct for labels\n",
    "    rtstruct_path = glob.glob(dataset_dir + \"RS*.dcm\", recursive=True)\n",
    "    rtstruct = RTStructBuilder.create_from(dicom_series_path=dataset_dir, rt_struct_path=rtstruct_path[0])\n",
    "\n",
    "    # Get structure names\n",
    "    structures = rtstruct.get_roi_names()\n",
    "\n",
    "    # Get mask for each structure\n",
    "    L_mask3d = rtstruct.get_roi_mask_by_name(structures[0])\n",
    "    R_mask3d = rtstruct.get_roi_mask_by_name(structures[1])\n",
    "\n",
    "    # Sort dataset from bottom to top of the scan\n",
    "    view = dataset.sort_by(\"SliceLocation\")\n",
    "\n",
    "    i = 0\n",
    "    for sample in view:\n",
    "\n",
    "        # Load left Hippocampus mask\n",
    "        sample[\"Hippocampus_L\"] = fo.Segmentation(mask=L_mask3d[:,:,i].astype(np.uint8))\n",
    "\n",
    "        # Load right Hippocampus mask\n",
    "        sample[\"Hippocampus_R\"] = fo.Segmentation(mask=R_mask3d[:,:,i].astype(np.uint8))\n",
    "        i = i + 1\n",
    "        sample.save()\n",
    "    \n",
    "    # Merge the dataset with the final dataset\n",
    "    final_dataset.merge_samples(dataset)"
   ]
  },
  {
   "cell_type": "markdown",
   "metadata": {},
   "source": [
    "Now we have all the patients into a single dataset, we can change our app to view our current dataset! Try dynamic grouping to see all of our different scans in our dataset as videos!"
   ]
  },
  {
   "cell_type": "code",
   "execution_count": null,
   "metadata": {},
   "outputs": [],
   "source": [
    "session.dataset = final_dataset"
   ]
  },
  {
   "cell_type": "markdown",
   "metadata": {},
   "source": [
    "![all_slices](./assets/all_slices.webp)"
   ]
  },
  {
   "cell_type": "markdown",
   "metadata": {},
   "source": [
    "## Working with CT Scans\n",
    "In FiftyOne, working with CT Scans can be a bit more tricky. CT Scans can come in multiple different file formats that all have slight variations. In order to ingest these files, we need to manually slice them ourselves. The main file formats used for CT scans are DICOM (`.dcm`), NIfTI (`.nii` or `nii.gz`), NRRD (`.nrrd`), or occasionally MHA/MHD (`.mha`, `.mhd` + `.raw`). \n",
    "\n",
    "The good new is if it is stored in DICOM format, you can follow the instructions above! If it is one of the other formats, we need to define what are base atomic sample is and store that as image. This means loading a NIfTI file for example, defining the slice in python, and then saving it back with `opencv` or a similar tool. We will show an example below using NIfTI files with masks.\n",
    "\n",
    "Note, there are ongoing community efforts to bring in 3D visualizers for Medical Imaging to better support DICOM, NIfTI, NRRD, and more! If you are interested in testing out experimental tools or contributing yourself, checkout the work at our Discord [LINK]!\n",
    "\n",
    "## Downloading the CT Scan Data\n",
    "We will be using another [demo dataset from kaggle](https://www.kaggle.com/datasets/andrewmvd/covid19-ct-scans?select=ct_scans) that captures some COVID-19 lung scans! Download using the code below:\n"
   ]
  },
  {
   "cell_type": "code",
   "execution_count": 6,
   "metadata": {},
   "outputs": [
    {
     "name": "stdout",
     "output_type": "stream",
     "text": [
      "Downloading from https://www.kaggle.com/api/v1/datasets/download/andrewmvd/covid19-ct-scans?dataset_version_number=4...\n"
     ]
    },
    {
     "name": "stderr",
     "output_type": "stream",
     "text": [
      "100%|██████████| 1.03G/1.03G [00:24<00:00, 44.7MB/s]"
     ]
    },
    {
     "name": "stdout",
     "output_type": "stream",
     "text": [
      "Extracting files...\n"
     ]
    },
    {
     "name": "stderr",
     "output_type": "stream",
     "text": [
      "\n"
     ]
    },
    {
     "name": "stdout",
     "output_type": "stream",
     "text": [
      "Path to dataset files: /Users/dangural/.cache/kagglehub/datasets/andrewmvd/covid19-ct-scans/versions/4\n"
     ]
    }
   ],
   "source": [
    "import kagglehub\n",
    "\n",
    "# Download latest version\n",
    "path = kagglehub.dataset_download(\"andrewmvd/covid19-ct-scans\")\n",
    "\n",
    "print(\"Path to dataset files:\", path)"
   ]
  },
  {
   "cell_type": "markdown",
   "metadata": {},
   "source": [
    "Now with our data downloaded, just like before lets first begin with just a single patient scan."
   ]
  },
  {
   "cell_type": "code",
   "execution_count": 38,
   "metadata": {},
   "outputs": [],
   "source": [
    "import nibabel as nib\n",
    "import numpy as np\n",
    "import os\n",
    "import cv2\n",
    "import fiftyone as fo"
   ]
  },
  {
   "cell_type": "markdown",
   "metadata": {},
   "source": [
    "## Loading NIfTI Files in FiftyOne\n",
    "We are going to define some helper functions to handle to loading of the NIfTI files. This time around, we will take a different approach to working with medical images. Instead of saving each individual slice like before, we will instead save an `mp4` of all the slices. This will be memory efficient and easy for us to slice and search through.\n",
    "\n",
    "In our first helper function, `nii_to_mp4`, we will take in a `.nii` file from our CT scan and save it back as an mp4 in the axial view. "
   ]
  },
  {
   "cell_type": "code",
   "execution_count": null,
   "metadata": {},
   "outputs": [],
   "source": [
    "def nii_to_mp4(filepath, fps=30):\n",
    "    '''\n",
    "    Reads .nii file and returns pixel array\n",
    "    '''\n",
    "    # Load .nii file\n",
    "    ct_scan = nib.load(filepath)\n",
    "    array   = ct_scan.get_fdata()\n",
    "\n",
    "    # Rotate array\n",
    "    array   = np.rot90(np.array(array))\n",
    "\n",
    "    # Normalize pixel values\n",
    "    array = (array - np.min(array)) / (np.max(array) - np.min(array)) * 255\n",
    "    array = array.astype(np.uint8)\n",
    "\n",
    "    # Define video writer\n",
    "    height, width, depth = array.shape\n",
    "    output_path = filepath.replace(\".nii\", \".mp4\")\n",
    "    fourcc = cv2.VideoWriter_fourcc(*'mp4v')\n",
    "    video_writer = cv2.VideoWriter(output_path, fourcc, fps, (width, height), isColor=True)\n",
    "\n",
    "    # Write each axial slice to the video\n",
    "    for i in range(depth):\n",
    "        frame = array[:, :, i]\n",
    "        # Convert grayscale to BGR for consistent writing\n",
    "        frame_bgr = cv2.cvtColor(frame, cv2.COLOR_GRAY2BGR)\n",
    "        video_writer.write(frame_bgr)\n",
    "\n",
    "    video_writer.release()\n",
    "    return(output_path)"
   ]
  },
  {
   "cell_type": "markdown",
   "metadata": {},
   "source": [
    "In our next helper function, `read_nii`, we load in a `.nii` file like before, but this time instead we are going to return the array to be loaded onto our samples as a Segmentation mask! [LINK]"
   ]
  },
  {
   "cell_type": "code",
   "execution_count": 54,
   "metadata": {},
   "outputs": [],
   "source": [
    "def read_nii(filepath):\n",
    "    '''\n",
    "    Reads .nii file and returns pixel array\n",
    "    '''\n",
    "    ct_scan = nib.load(filepath)\n",
    "    array   = ct_scan.get_fdata()\n",
    "    array   = np.rot90(np.array(array))\n",
    "    array = array.astype(np.uint8)  \n",
    "    return(array)"
   ]
  },
  {
   "cell_type": "markdown",
   "metadata": {},
   "source": [
    "With our helper functions, we can grab our first sample and attempt to load it in! Dont forget we need the 3 different segmentation masks as well."
   ]
  },
  {
   "cell_type": "code",
   "execution_count": 77,
   "metadata": {},
   "outputs": [],
   "source": [
    "# Convert Scan to mp4\n",
    "sample_ct   = nii_to_mp4(path + \"/ct_scans/coronacases_org_001.nii\")\n",
    "\n",
    "# Read the masks\n",
    "sample_lung = read_nii(path + \"/lung_mask/coronacases_001.nii\")\n",
    "sample_infe = read_nii(path + \"/infection_mask/coronacases_001.nii\")\n",
    "sample_all  = read_nii(path + \"/lung_and_infection_mask/coronacases_001.nii\")"
   ]
  },
  {
   "cell_type": "markdown",
   "metadata": {},
   "source": [
    "Next we create a FiftyOne sample. Since we passed in a `.mp4` file, this will be a video sample [LINK]. With video samples, we can store any type of label on each frame. Let's try loading our segmentation masks on each slice of our CT scan!\n",
    "\n",
    "If you want to learn more about how to work with FiftyOne video samples and datasets, check out Getting Started with Videos! [LINK]"
   ]
  },
  {
   "cell_type": "code",
   "execution_count": null,
   "metadata": {},
   "outputs": [],
   "source": [
    "# Create output folder\n",
    "sample = fo.Sample(filepath=sample_ct)\n",
    "\n",
    "\n",
    "for i in range(sample_lung.shape[2]):\n",
    "\n",
    "    # Add masks to each frame. Note that video frames start from 1, there is no frame 0!\n",
    "    sample.frames[i+1][\"Infection Mask\"] = fo.Segmentation(mask=sample_infe[:, :, i].astype(np.uint8))\n",
    "    sample.frames[i+1][\"Lung Mask\"] = fo.Segmentation(mask=sample_lung[:, :, i].astype(np.uint8))\n",
    "    sample.frames[i+1][\"All Masks\"] = fo.Segmentation(mask=sample_all[:, :, i].astype(np.uint8))\n"
   ]
  },
  {
   "cell_type": "markdown",
   "metadata": {},
   "source": [
    "With our video sample created and annotations added, we can create a dataset to load into. The final step is to make sure that the `.mp4` we saved can be rendered in all browsers. Not all `mp4`s are encoded the same, so we use `fo.utils.video.reencode_videos()` to ensure that it will render for us in the app! Speaking of which, after it is reencoded, lets open up the app and look at our first scan!"
   ]
  },
  {
   "cell_type": "code",
   "execution_count": null,
   "metadata": {},
   "outputs": [
    {
     "name": "stdout",
     "output_type": "stream",
     "text": [
      " 100% |█████████████████████| 1/1 [1.4s elapsed, 0s remaining, 0.7 samples/s] \n",
      " 100% |█████████████████████| 1/1 [368.8ms elapsed, 0s remaining, 2.7 samples/s] \n"
     ]
    }
   ],
   "source": [
    "# Create a dataset of Patient 1\n",
    "dataset = fo.Dataset(name=\"COVID-19 CT Scans Patient 1\", overwrite=True)\n",
    "dataset.add_samples([sample])\n",
    "\n",
    "# Reencode videos so it will play in any browser\n",
    "fo.utils.video.reencode_videos(dataset)\n",
    "\n",
    "# Launch the App\n",
    "session = fo.launch_app(dataset)"
   ]
  },
  {
   "cell_type": "markdown",
   "metadata": {},
   "source": [
    "![patient1_ct1](./assets/patient1_ct.webp)"
   ]
  },
  {
   "cell_type": "markdown",
   "metadata": {},
   "source": [
    "Great! Now we can visualize our first CT Scan. Try different color options by clicking the color palatte button above the grid and change \"Color annotations by\" to `value`.\n",
    "\n",
    "Next step is to repeat the same process for our annotations as well and add them to our sample!"
   ]
  },
  {
   "cell_type": "code",
   "execution_count": 91,
   "metadata": {},
   "outputs": [
    {
     "name": "stdout",
     "output_type": "stream",
     "text": [
      "coronacases_org_001.nii\n",
      "coronacases_001.nii\n",
      "coronacases_001.nii\n",
      "coronacases_001.nii\n"
     ]
    }
   ],
   "source": [
    "# List all files in the directory that end with .nii\n",
    "ct_scan_files = [f for f in os.listdir(path + \"/ct_scans/\") if f.endswith(\".nii\") and os.path.isfile(os.path.join(path + \"/ct_scans/\", f))]\n",
    "ct_scan_files.sort()\n",
    "print(ct_scan_files[0])\n",
    "\n",
    "lung_files = [f for f in os.listdir(path + \"/lung_mask/\") if f.endswith(\".nii\") and os.path.isfile(os.path.join(path + \"/lung_mask/\", f))]\n",
    "lung_files.sort()\n",
    "print(lung_files[0])\n",
    "\n",
    "infe_files = [f for f in os.listdir(path + \"/infection_mask/\") if f.endswith(\".nii\") and os.path.isfile(os.path.join(path + \"/infection_mask/\", f))]\n",
    "infe_files.sort()\n",
    "print(infe_files[0])\n",
    "\n",
    "all_files = [f for f in os.listdir(path + \"/lung_and_infection_mask/\") if f.endswith(\".nii\") and os.path.isfile(os.path.join(path + \"/lung_and_infection_mask/\", f))]\n",
    "all_files.sort()\n",
    "print(all_files[0])"
   ]
  },
  {
   "cell_type": "markdown",
   "metadata": {},
   "source": [
    "We have all of our scans sorted and in a list, it is now time to loop over them and create some samples! \n",
    "\n",
    "This pattern of creating samples, appending them to a list, and the adding them to a FiftyOne dataset is one of the fastest ways to create a FiftyOne dataset in terms of time complexity. This is because it minimizes the number of writes to your backend database. Try using it anytime you are loading large number of samples to cut down the load times!"
   ]
  },
  {
   "cell_type": "code",
   "execution_count": 92,
   "metadata": {},
   "outputs": [
    {
     "name": "stdout",
     "output_type": "stream",
     "text": [
      " 100% |███████████████████| 20/20 [20.8s elapsed, 0s remaining, 1.2 samples/s]      \n",
      " 100% |███████████████████| 20/20 [6.2s elapsed, 0s remaining, 2.9 samples/s]      \n"
     ]
    },
    {
     "data": {
      "text/html": [
       "\n",
       "        <iframe\n",
       "            width=\"100%\"\n",
       "            height=\"800\"\n",
       "            src=\"http://localhost:5151/?notebook=True&subscription=587459c2-cba0-4376-95bc-545dec239192\"\n",
       "            frameborder=\"0\"\n",
       "            allowfullscreen\n",
       "            \n",
       "        ></iframe>\n",
       "        "
      ],
      "text/plain": [
       "<IPython.lib.display.IFrame at 0x31f146d70>"
      ]
     },
     "metadata": {},
     "output_type": "display_data"
    }
   ],
   "source": [
    "samples = []\n",
    "for i in range(len(ct_scan_files)):\n",
    "    # Convert Scan to mp4\n",
    "    sample_ct   = nii_to_mp4(path + \"/ct_scans/\" + ct_scan_files[i])\n",
    "\n",
    "    # Read the masks\n",
    "    sample_lung = read_nii(path + \"/lung_mask/\" + lung_files[i])\n",
    "    sample_infe = read_nii(path + \"/infection_mask/\" + infe_files[i])\n",
    "    sample_all  = read_nii(path + \"/lung_and_infection_mask/\" + all_files[i])\n",
    "\n",
    "    # Create Sample\n",
    "    sample = fo.Sample(filepath=sample_ct)\n",
    "\n",
    "    for i in range(sample_lung.shape[2]):\n",
    "\n",
    "        # Add masks to each frame\n",
    "        sample.frames[i+1][\"Infection Mask\"] = fo.Segmentation(mask=sample_infe[:, :, i].astype(np.uint8))\n",
    "        sample.frames[i+1][\"Lung Mask\"] = fo.Segmentation(mask=sample_lung[:, :, i].astype(np.uint8))\n",
    "        sample.frames[i+1][\"All Masks\"] = fo.Segmentation(mask=sample_all[:, :, i].astype(np.uint8))\n",
    "    \n",
    "    samples.append(sample)\n",
    "\n",
    "# Create a dataset of all Patients\n",
    "dataset = fo.Dataset(name=\"COVID-19 CT Scans\", overwrite=True)\n",
    "dataset.add_samples(samples)\n",
    "\n",
    "# Reencode videos so it will play in any browser\n",
    "fo.utils.video.reencode_videos(dataset)\n",
    "\n",
    "# Launch the App\n",
    "session = fo.launch_app(dataset)"
   ]
  },
  {
   "cell_type": "markdown",
   "metadata": {},
   "source": [
    "After running the above code, you should be able to visualize all the scans in the dataset now!\n",
    "\n",
    "![all_scans](./assets/all_patients_ct.webp)"
   ]
  },
  {
   "cell_type": "markdown",
   "metadata": {},
   "source": [
    "Next up, try checking out some of our other docs to take your Medical Imaging dataset to next level by utilitzing tools like:\n",
    "- Visualizing Embeddings\n",
    "- Similarity Search\n",
    "- MedSAM2 in Model Zoo\n",
    "\n",
    "and more! [LINKS]"
   ]
  }
 ],
 "metadata": {
  "kernelspec": {
   "display_name": "OSS310",
   "language": "python",
   "name": "python3"
  },
  "language_info": {
   "codemirror_mode": {
    "name": "ipython",
    "version": 3
   },
   "file_extension": ".py",
   "mimetype": "text/x-python",
   "name": "python",
   "nbconvert_exporter": "python",
   "pygments_lexer": "ipython3",
   "version": "3.10.16"
  }
 },
 "nbformat": 4,
 "nbformat_minor": 2
}
